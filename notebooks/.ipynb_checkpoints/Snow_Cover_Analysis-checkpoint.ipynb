{
 "cells": [
  {
   "cell_type": "code",
   "execution_count": 14,
   "id": "a856cfbc-e480-409e-9882-b313cbd92416",
   "metadata": {},
   "outputs": [],
   "source": [
    "import os\n",
    "import re\n",
    "import numpy as np\n",
    "import xarray as xr\n",
    "import pandas as pd\n",
    "import matplotlib.pyplot as plt\n",
    "from pyproj import Proj, Transformer"
   ]
  },
  {
   "cell_type": "markdown",
   "id": "be01269c-e4dc-45a0-b80d-e862c986719f",
   "metadata": {},
   "source": [
    "### Optional: Download and combine data"
   ]
  },
  {
   "cell_type": "code",
   "execution_count": null,
   "id": "713ca2c2-c6f4-4347-a48a-4e3bb2b652b0",
   "metadata": {},
   "outputs": [],
   "source": [
    "def read_snowice_bin(filepath):\n",
    "    rows, cols = 720, 720\n",
    "    dtype = np.uint8\n",
    "    \n",
    "    with open(filepath, 'rb') as f:\n",
    "        data = np.fromfile(f, dtype=dtype).reshape((rows, cols))\n",
    "    \n",
    "    # Mask missing values (255 = missing)\n",
    "    data = np.where(data == 255, np.nan, data).astype(np.float32)\n",
    "\n",
    "    return data\n",
    "\n",
    "\n",
    "def convert_bin_to_netcdf(bin_files, output_nc_path):\n",
    "    data_list, times = [], []\n",
    "\n",
    "    # Regex to extract start date YYYYMMDD from filenames like:\n",
    "    date_pattern = re.compile(r'\\.(\\d{8})-\\d{8}\\.')\n",
    "\n",
    "    for fname in sorted(bin_files):\n",
    "        data = read_snowice_bin(fname)\n",
    "    \n",
    "        match = date_pattern.search(fname)\n",
    "        if not match:\n",
    "            print(f\"Skipping file (no date found): {fname}\")\n",
    "            continue\n",
    "    \n",
    "        date_str = match.group(1)  # e.g. '19800303'\n",
    "    \n",
    "        # Use pandas to parse the date string\n",
    "        start_date = pd.to_datetime(date_str, format='%Y%m%d')\n",
    "\n",
    "        data_list.append(data)\n",
    "        times.append(start_date)\n",
    "\n",
    "    # Stack into 3D array: (time, y, x)\n",
    "    data_array = np.ma.stack(data_list)\n",
    "\n",
    "    data_xr = xr.DataArray(\n",
    "        data_array,\n",
    "        coords={'time': times, 'y': np.arange(720), 'x': np.arange(720)},\n",
    "        dims=['time', 'y', 'x'],\n",
    "        name='snow_ice_classification'\n",
    "    )\n",
    "\n",
    "    # Filter to MAM months before resampling\n",
    "    data_xr = data_xr.sel(time=data_xr['time.month'].isin([3, 4, 5]))\n",
    "\n",
    "    # Group by 'month' coordinate and average over 'time'\n",
    "    monthly_means = data_xr.resample(time='1MS').mean()\n",
    "\n",
    "    # Add lat/lon coordinates for EASE2 25km grid\n",
    "    nx, ny = 720, 720\n",
    "    res = 25000  # 25 km grid spacing in meters\n",
    "\n",
    "    x0 = - (nx // 2) * res\n",
    "    y0 = (ny // 2) * res\n",
    "\n",
    "    x = np.arange(nx) * res + x0\n",
    "    y = y0 - np.arange(ny) * res\n",
    "    xg, yg = np.meshgrid(x, y)\n",
    "\n",
    "    proj_ease = Proj('+proj=laea +lat_0=90 +lon_0=0 +datum=WGS84 +units=m')\n",
    "    transformer = Transformer.from_proj(proj_ease, 'epsg:4326', always_xy=True)\n",
    "    lon, lat = transformer.transform(xg, yg)\n",
    "\n",
    "    monthly_means = monthly_means.assign_coords({\n",
    "        'latitude': (('y', 'x'), lat),\n",
    "        'longitude': (('y', 'x'), lon),\n",
    "    })\n",
    "\n",
    "    # Convert to Dataset\n",
    "    ds = monthly_means.to_dataset(name='snow_ice_classification')\n",
    "\n",
    "    ds.to_netcdf(output_nc_path)\n",
    "    print(f\"Saved monthly mean NetCDF to: {output_nc_path}\")\n",
    "\n",
    "\n",
    "if __name__ == \"__main__\":\n",
    "    # Example usage\n",
    "    data_dir = '/pscratch/sd/s/skygale/dyn-data/raw/nsidc0046_data'\n",
    "    output_nc = '../data/snow_cover_data.nc'\n",
    "\n",
    "    bin_files = [os.path.join(data_dir, f) for f in os.listdir(data_dir) if f.endswith('.bin')]\n",
    "    convert_bin_to_netcdf(bin_files, output_nc)\n"
   ]
  },
  {
   "cell_type": "markdown",
   "id": "96d51404-2a2b-419b-8fd8-eaace1bd3f45",
   "metadata": {},
   "source": [
    "### Analysis"
   ]
  },
  {
   "cell_type": "code",
   "execution_count": 53,
   "id": "5f50ca40-8d3c-4b84-a13a-51960433ba9c",
   "metadata": {},
   "outputs": [
    {
     "data": {
      "text/plain": [
       "array(['1980-03-01T00:00:00.000000000', '1980-04-01T00:00:00.000000000',\n",
       "       '1980-05-01T00:00:00.000000000', '1980-06-01T00:00:00.000000000',\n",
       "       '1980-07-01T00:00:00.000000000', '1980-08-01T00:00:00.000000000',\n",
       "       '1980-09-01T00:00:00.000000000', '1980-10-01T00:00:00.000000000',\n",
       "       '1980-11-01T00:00:00.000000000', '1980-12-01T00:00:00.000000000'],\n",
       "      dtype='datetime64[ns]')"
      ]
     },
     "execution_count": 53,
     "metadata": {},
     "output_type": "execute_result"
    }
   ],
   "source": [
    "# Load dataset\n",
    "ds = xr.open_dataset('../data/snow_cover_data.nc')\n",
    "\n",
    "classif = ds['snow_ice_classification']\n",
    "lat = ds['lat']\n",
    "lon = ds['lon']\n",
    "\n",
    "ds.time.values[:10]"
   ]
  },
  {
   "cell_type": "code",
   "execution_count": 46,
   "id": "7cb3154f-4918-4ff4-9336-88a0de7394da",
   "metadata": {},
   "outputs": [],
   "source": [
    "# Create a snow cover mask\n",
    "def is_snow_covered(classification_data, snow_code=2):\n",
    "    \"\"\"Returns a boolean DataArray: True if snow-covered, else False or NaN.\"\"\"\n",
    "    return (classification_data == snow_code).where(classification_data != 255)\n",
    "\n",
    "snow_mask = is_snow_covered(classif, snow_code=2)\n"
   ]
  },
  {
   "cell_type": "code",
   "execution_count": 17,
   "id": "917d7b82-4fbd-4089-b835-70521a797676",
   "metadata": {},
   "outputs": [
    {
     "name": "stdout",
     "output_type": "stream",
     "text": [
      "Index([1969, 1969, 1969, 1969, 1969, 1969, 1969, 1969, 1969, 1969,\n",
      "       ...\n",
      "       1969, 1969, 1969, 1969, 1969, 1969, 1969, 1969, 1969, 1969],\n",
      "      dtype='int32', length=565)\n"
     ]
    },
    {
     "ename": "AttributeError",
     "evalue": "'Index' object has no attribute 'mean'",
     "output_type": "error",
     "traceback": [
      "\u001b[0;31m---------------------------------------------------------------------------\u001b[0m",
      "\u001b[0;31mAttributeError\u001b[0m                            Traceback (most recent call last)",
      "Cell \u001b[0;32mIn[17], line 31\u001b[0m\n\u001b[1;32m     19\u001b[0m     trend \u001b[38;5;241m=\u001b[39m xr\u001b[38;5;241m.\u001b[39mapply_ufunc(\n\u001b[1;32m     20\u001b[0m         linreg,\n\u001b[1;32m     21\u001b[0m         snow_numeric,\n\u001b[0;32m   (...)\u001b[0m\n\u001b[1;32m     25\u001b[0m         output_dtypes\u001b[38;5;241m=\u001b[39m[\u001b[38;5;28mfloat\u001b[39m],\n\u001b[1;32m     26\u001b[0m     )\n\u001b[1;32m     28\u001b[0m     \u001b[38;5;28;01mreturn\u001b[39;00m trend\n\u001b[0;32m---> 31\u001b[0m trend \u001b[38;5;241m=\u001b[39m \u001b[43msnow_cover_trend\u001b[49m\u001b[43m(\u001b[49m\u001b[43msnow_mask\u001b[49m\u001b[43m,\u001b[49m\u001b[43m \u001b[49m\u001b[43mclassif\u001b[49m\u001b[43m[\u001b[49m\u001b[38;5;124;43m'\u001b[39;49m\u001b[38;5;124;43mtime\u001b[39;49m\u001b[38;5;124;43m'\u001b[39;49m\u001b[43m]\u001b[49m\u001b[43m)\u001b[49m\n",
      "Cell \u001b[0;32mIn[17], line 7\u001b[0m, in \u001b[0;36msnow_cover_trend\u001b[0;34m(snow_mask, time_coord)\u001b[0m\n\u001b[1;32m      5\u001b[0m \u001b[38;5;28mprint\u001b[39m(years)\n\u001b[1;32m      6\u001b[0m years \u001b[38;5;241m=\u001b[39m years\u001b[38;5;241m.\u001b[39mastype(\u001b[38;5;28mfloat\u001b[39m)  \u001b[38;5;66;03m# Convert Int64Index to float ndarray\u001b[39;00m\n\u001b[0;32m----> 7\u001b[0m X \u001b[38;5;241m=\u001b[39m years \u001b[38;5;241m-\u001b[39m \u001b[43myears\u001b[49m\u001b[38;5;241;43m.\u001b[39;49m\u001b[43mmean\u001b[49m()\n\u001b[1;32m      9\u001b[0m \u001b[38;5;28;01mdef\u001b[39;00m \u001b[38;5;21mlinreg\u001b[39m(y):\n\u001b[1;32m     10\u001b[0m     mask \u001b[38;5;241m=\u001b[39m np\u001b[38;5;241m.\u001b[39misfinite(y)\n",
      "\u001b[0;31mAttributeError\u001b[0m: 'Index' object has no attribute 'mean'"
     ]
    }
   ],
   "source": [
    "# Compute trend per grid cell over time\n",
    "def snow_cover_trend(snow_mask, time_coord):\n",
    "    # Convert time to years\n",
    "    years = pd.to_datetime(time_coord.values).year\n",
    "    print(years)\n",
    "    X = years - years.mean()\n",
    "\n",
    "    def linreg(y):\n",
    "        mask = np.isfinite(y)\n",
    "        if np.sum(mask) < 2:\n",
    "            return np.nan\n",
    "        return np.cov(X[mask], y[mask])[0, 1] / np.var(X[mask])\n",
    "\n",
    "    # Convert snow mask to float (0 or 1), so we can regress\n",
    "    snow_numeric = snow_mask.astype(float)\n",
    "\n",
    "    # Compute trend of snow frequency over time at each grid point\n",
    "    trend = xr.apply_ufunc(\n",
    "        linreg,\n",
    "        snow_numeric,\n",
    "        input_core_dims=[[\"time\"]],\n",
    "        vectorize=True,\n",
    "        dask=\"parallelized\" if snow_numeric.chunks else False,\n",
    "        output_dtypes=[float],\n",
    "    )\n",
    "\n",
    "    return trend\n",
    "\n",
    "\n",
    "trend = snow_cover_trend(snow_mask, classif['time'])\n"
   ]
  },
  {
   "cell_type": "code",
   "execution_count": 11,
   "id": "5df59fc3-051d-4b10-a323-862aba977685",
   "metadata": {},
   "outputs": [],
   "source": [
    "# Plot the trend\n",
    "def plot_snow_trend(trend, lat, lon, title=\"Trend in Snow Cover Frequency\"):\n",
    "    plt.figure(figsize=(12, 7))\n",
    "\n",
    "    # Plot using pcolormesh with 2D lat/lon\n",
    "    plt.pcolormesh(lon, lat, trend, cmap=\"RdBu_r\", shading=\"auto\")\n",
    "\n",
    "    plt.colorbar(label=\"Trend (Δ snow cover presence per year)\")\n",
    "    plt.title(title)\n",
    "    plt.xlabel(\"Longitude\")\n",
    "    plt.ylabel(\"Latitude\")\n",
    "    plt.tight_layout()\n",
    "    plt.show()\n",
    "\n",
    "\n",
    "plot_snow_trend(trend, lat, lon)\n"
   ]
  }
 ],
 "metadata": {
  "kernelspec": {
   "display_name": "Python 3 (ipykernel)",
   "language": "python",
   "name": "python3"
  },
  "language_info": {
   "codemirror_mode": {
    "name": "ipython",
    "version": 3
   },
   "file_extension": ".py",
   "mimetype": "text/x-python",
   "name": "python",
   "nbconvert_exporter": "python",
   "pygments_lexer": "ipython3",
   "version": "3.10.14"
  }
 },
 "nbformat": 4,
 "nbformat_minor": 5
}
