{
 "cells": [
  {
   "cell_type": "code",
   "execution_count": 1,
   "id": "e9da68e6-59d5-4d85-92fb-178413e45748",
   "metadata": {},
   "outputs": [],
   "source": [
    "import cdsapi\n",
    "import xarray as xr\n",
    "import numpy as np\n",
    "import matplotlib.pyplot as plt\n",
    "import cartopy.crs as ccrs\n",
    "import cartopy.feature as cfeature\n",
    "from scipy.stats import linregress"
   ]
  },
  {
   "cell_type": "markdown",
   "id": "42b7e4e7-aa9d-4b4e-b2f0-b6da814d3662",
   "metadata": {
    "jp-MarkdownHeadingCollapsed": true
   },
   "source": [
    "### Optional: Download data"
   ]
  },
  {
   "cell_type": "code",
   "execution_count": 4,
   "id": "9c76551b-3686-453a-92c8-2418d5d8f835",
   "metadata": {},
   "outputs": [
    {
     "name": "stderr",
     "output_type": "stream",
     "text": [
      "2025-08-29 12:05:04,846 INFO [2024-09-26T00:00:00] Watch our [Forum](https://forum.ecmwf.int/) for Announcements, news and other discussed topics.\n",
      "2025-08-29 12:05:05,513 INFO Request ID is f41a69a8-9615-43b9-8b17-0846187d5525\n",
      "2025-08-29 12:05:05,790 INFO status has been updated to accepted\n",
      "2025-08-29 12:05:15,027 INFO status has been updated to running\n",
      "2025-08-29 12:05:28,188 INFO status has been updated to accepted\n",
      "2025-08-29 12:06:23,056 INFO status has been updated to running\n",
      "2025-08-29 12:07:01,753 INFO status has been updated to successful\n"
     ]
    },
    {
     "data": {
      "application/vnd.jupyter.widget-view+json": {
       "model_id": "0b048c89a4c146958d33927a51606a96",
       "version_major": 2,
       "version_minor": 0
      },
      "text/plain": [
       "a455bc65264790c0202b43a076812868.zip:   0%|          | 0.00/304M [00:00<?, ?B/s]"
      ]
     },
     "metadata": {},
     "output_type": "display_data"
    },
    {
     "data": {
      "text/plain": [
       "'a455bc65264790c0202b43a076812868.zip'"
      ]
     },
     "execution_count": 4,
     "metadata": {},
     "output_type": "execute_result"
    }
   ],
   "source": [
    "# Download data from CDS\n",
    "dataset = \"reanalysis-era5-single-levels-monthly-means\"\n",
    "request = {\n",
    "    \"product_type\": [\"monthly_averaged_reanalysis\"],\n",
    "    \"variable\": [\n",
    "        \"vertical_integral_of_eastward_water_vapour_flux\",\n",
    "        \"vertical_integral_of_northward_water_vapour_flux\",\n",
    "        \"vertically_integrated_moisture_divergence\"\n",
    "    ],\n",
    "    \"year\": [\n",
    "        \"1980\", \"1981\", \"1982\",\n",
    "        \"1983\", \"1984\", \"1985\",\n",
    "        \"1986\", \"1987\", \"1988\",\n",
    "        \"1989\", \"1990\", \"1991\",\n",
    "        \"1992\", \"1993\", \"1994\",\n",
    "        \"1995\", \"1996\", \"1997\",\n",
    "        \"1998\", \"1999\", \"2000\",\n",
    "        \"2001\", \"2002\", \"2003\",\n",
    "        \"2004\", \"2005\", \"2006\",\n",
    "        \"2007\", \"2008\", \"2009\",\n",
    "        \"2010\", \"2011\", \"2012\",\n",
    "        \"2013\", \"2014\", \"2015\",\n",
    "        \"2016\", \"2017\", \"2018\",\n",
    "        \"2019\", \"2020\", \"2021\",\n",
    "        \"2022\"\n",
    "    ],\n",
    "    \"month\": [\"03\", \"04\", \"05\"],\n",
    "    \"time\": [\"00:00\"],\n",
    "    \"data_format\": \"netcdf\",\n",
    "    \"download_format\": \"unarchived\",\n",
    "    \"area\": [90, -180, 0, 180]\n",
    "}\n",
    "\n",
    "client = cdsapi.Client()\n",
    "client.retrieve(dataset, request).download()"
   ]
  },
  {
   "cell_type": "markdown",
   "id": "b9a249a4-3ff1-4fb7-925b-be45683355d8",
   "metadata": {},
   "source": [
    "### Analysis"
   ]
  },
  {
   "cell_type": "code",
   "execution_count": null,
   "id": "dc98517f-1f32-420e-aa8c-4d353b55bf92",
   "metadata": {},
   "outputs": [],
   "source": [
    "# Filter March/April and calculate trend at each grid cell\n",
    "def monthly_trend(data, month):\n",
    "    # Filter only the desired month\n",
    "    month_data = data.sel(valid_time=data['valid_time'].dt.month == month)\n",
    "    \n",
    "    # Extract years as numeric array\n",
    "    years = month_data['valid_time'].dt.year.values\n",
    "    years_centered = years - years.mean()  # Center for numerical stability\n",
    "    \n",
    "    # Reshape years for polyfit: shape (N_time,)\n",
    "    # Data shape: (time, ...) where ... are spatial dims\n",
    "    \n",
    "    # Move time axis to front and flatten spatial dims\n",
    "    y = month_data.values\n",
    "    orig_shape = y.shape[1:]  # all dims except time\n",
    "    y_reshaped = y.reshape(len(years), -1)  # shape: (time, npoints)\n",
    "    \n",
    "    # Prepare array for slopes\n",
    "    slopes = np.full(y_reshaped.shape[1], np.nan)\n",
    "    \n",
    "    # Loop over each spatial point (or use a vectorized approach)\n",
    "    for i in range(y_reshaped.shape[1]):\n",
    "        valid = np.isfinite(y_reshaped[:, i])\n",
    "        if np.sum(valid) > 1:\n",
    "            # Fit line: np.polyfit returns [slope, intercept]\n",
    "            p = np.polyfit(years_centered[valid], y_reshaped[valid, i], 1)\n",
    "            slopes[i] = p[0]\n",
    "    \n",
    "    # Reshape slopes back to spatial dims\n",
    "    slopes = slopes.reshape(orig_shape)\n",
    "    \n",
    "    # Create new DataArray with same dims as spatial dims\n",
    "    trend = xr.DataArray(slopes, dims=month_data.dims[1:], coords={dim: month_data.coords[dim] for dim in month_data.dims[1:]})\n",
    "    \n",
    "    return trend\n",
    "\n",
    "\n",
    "# Apply to each variable for March and April\n",
    "north_flux = xr.open_dataset('../data/moisture_flux.nc').viwvn\n",
    "east_flux = xr.open_dataset('../data/moisture_flux.nc').viwve\n",
    "divergence = xr.open_dataset('../data/moisture_divergence.nc').vimd\n",
    "\n",
    "# Calculate trends for March (month = 3)\n",
    "march_trend_north = monthly_trend(north_flux, 3)\n",
    "march_trend_east = monthly_trend(east_flux, 3)\n",
    "march_trend_div = monthly_trend(divergence, 3)\n",
    "\n",
    "# April (month = 4)\n",
    "april_trend_north = monthly_trend(north_flux, 4)\n",
    "april_trend_east = monthly_trend(east_flux, 4)\n",
    "april_trend_div = monthly_trend(divergence, 4)\n"
   ]
  },
  {
   "cell_type": "code",
   "execution_count": 15,
   "id": "8590872d-94ac-4e18-8139-23ff9d8aa7ad",
   "metadata": {},
   "outputs": [],
   "source": [
    "# Save trends as NetCDF\n",
    "march_trend_ds = xr.Dataset({\n",
    "    \"northward_flux_trend\": march_trend_north,\n",
    "    \"eastward_flux_trend\": march_trend_east,\n",
    "    \"divergence_trend\": march_trend_div,\n",
    "})\n",
    "march_trend_ds.to_netcdf(\"march_flux_divergence_trend.nc\")\n",
    "\n",
    "april_trend_ds = xr.Dataset({\n",
    "    \"northward_flux_trend\": april_trend_north,\n",
    "    \"eastward_flux_trend\": april_trend_east,\n",
    "    \"divergence_trend\": april_trend_div,\n",
    "})\n",
    "april_trend_ds.to_netcdf(\"april_flux_divergence_trend.nc\")\n"
   ]
  },
  {
   "cell_type": "code",
   "execution_count": 2,
   "id": "0ae62658-e18c-4d47-aa7f-af7412c4b2ba",
   "metadata": {},
   "outputs": [],
   "source": [
    "# Plot trends\n",
    "def plot_quiver_with_contour(east, north, div, month_name):\n",
    "    lat = east.latitude.values\n",
    "    lon = east.longitude.values\n",
    "\n",
    "    # Create meshgrid in lon/lat\n",
    "    Lon, Lat = np.meshgrid(lon, lat)\n",
    "\n",
    "    proj = ccrs.NorthPolarStereo()\n",
    "    fig, ax = plt.subplots(figsize=(10, 10), subplot_kw={'projection': proj})\n",
    "    ax.set_extent([-180, 180, 50, 90], crs=ccrs.PlateCarree())\n",
    "    ax.coastlines()\n",
    "    ax.gridlines(alpha=0.3)\n",
    "\n",
    "    # Mask to 50N–90N for color scale\n",
    "    lat_mask = Lat >= 50\n",
    "    div_masked = np.where(lat_mask, div, np.nan)\n",
    "    max_abs_div = np.nanmax(np.abs(div_masked * 10))\n",
    "\n",
    "    # Contourf of divergence trend\n",
    "    div_plot = ax.contourf(\n",
    "        Lon, Lat, div * 10,\n",
    "        levels=21,\n",
    "        cmap=\"RdBu_r\",\n",
    "        vmin=-max_abs_div,\n",
    "        vmax=max_abs_div,\n",
    "        transform=ccrs.PlateCarree()\n",
    "    )\n",
    "    cbar = fig.colorbar(div_plot, ax=ax, orientation='vertical', shrink=0.6)\n",
    "    cbar.set_label('Moisture Flux Divergence Trend (kg m⁻² per decade)')\n",
    "\n",
    "    # Quiver of east/north moisture flux trends\n",
    "    skip = 15\n",
    "    U = east[::skip, ::skip].values * 10  # Convert to per decade\n",
    "    V = north[::skip, ::skip].values * 10\n",
    "    X = Lon[::skip, ::skip]\n",
    "    Y = Lat[::skip, ::skip]\n",
    "\n",
    "    q = ax.quiver(\n",
    "        X, Y, U, V,\n",
    "        transform=ccrs.PlateCarree(),\n",
    "        scale=None,\n",
    "        width=0.003,\n",
    "        color='black'\n",
    "    )\n",
    "\n",
    "    # Quiver key\n",
    "    ax.quiverkey(\n",
    "        q, 0.92, 0.05, 5,\n",
    "        label=\"5 kg m⁻¹ s⁻¹\",\n",
    "        labelpos='E',\n",
    "        coordinates='axes'\n",
    "    )\n",
    "\n",
    "    ax.set_title(f\"{month_name} Moisture Flux + Divergence Trends (1980-\", fontsize=12)\n",
    "\n",
    "    plt.show()\n"
   ]
  },
  {
   "cell_type": "code",
   "execution_count": 3,
   "id": "dc3020e3-b7e2-446c-be75-494609da5685",
   "metadata": {},
   "outputs": [
    {
     "ename": "NameError",
     "evalue": "name 'march_trend_east' is not defined",
     "output_type": "error",
     "traceback": [
      "\u001b[0;31m---------------------------------------------------------------------------\u001b[0m",
      "\u001b[0;31mNameError\u001b[0m                                 Traceback (most recent call last)",
      "Cell \u001b[0;32mIn[3], line 2\u001b[0m\n\u001b[1;32m      1\u001b[0m \u001b[38;5;66;03m# Plot March\u001b[39;00m\n\u001b[0;32m----> 2\u001b[0m plot_quiver_with_contour(\u001b[43mmarch_trend_east\u001b[49m, march_trend_north, march_trend_div, \u001b[38;5;124m\"\u001b[39m\u001b[38;5;124mMarch\u001b[39m\u001b[38;5;124m\"\u001b[39m)\n",
      "\u001b[0;31mNameError\u001b[0m: name 'march_trend_east' is not defined"
     ]
    }
   ],
   "source": [
    "# Plot March\n",
    "plot_quiver_with_contour(march_trend_east, march_trend_north, march_trend_div, \"March\")\n"
   ]
  },
  {
   "cell_type": "code",
   "execution_count": null,
   "id": "c4b2d3d1-ed12-4e02-98aa-7836b778dec6",
   "metadata": {},
   "outputs": [],
   "source": [
    "# Plot April\n",
    "plot_quiver_with_contour(april_trend_east, april_trend_north, april_trend_div, \"April\")\n"
   ]
  }
 ],
 "metadata": {
  "kernelspec": {
   "display_name": "Sweeneyetal2023",
   "language": "python",
   "name": "sweeneyetal2023"
  },
  "language_info": {
   "codemirror_mode": {
    "name": "ipython",
    "version": 3
   },
   "file_extension": ".py",
   "mimetype": "text/x-python",
   "name": "python",
   "nbconvert_exporter": "python",
   "pygments_lexer": "ipython3",
   "version": "3.9.18"
  }
 },
 "nbformat": 4,
 "nbformat_minor": 5
}
