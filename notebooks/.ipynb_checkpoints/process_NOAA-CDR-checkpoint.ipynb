{
 "cells": [
  {
   "cell_type": "code",
   "execution_count": null,
   "id": "160c38b5-c4e7-4940-a06d-5fa566fc5c64",
   "metadata": {},
   "outputs": [],
   "source": [
    "import xarray as xr\n",
    "import numpy as np\n",
    "import matplotlib.pyplot as plt\n",
    "\n",
    "# === Load the NetCDF file ===\n",
    "# Replace 'your_file.nc' with the path to your NetCDF file\n",
    "ds = xr.open_dataset(\"your_file.nc\")\n",
    "\n",
    "# Inspect variable names if unsure: print(ds)\n",
    "\n",
    "# === Configuration ===\n",
    "sic_var_name = \"sic\"  # Change this if your variable name is different\n",
    "time_var = ds['time']\n",
    "sic = ds[sic_var_name]\n",
    "\n",
    "# Convert time to datetime if not already\n",
    "sic['time'] = xr.decode_cf(ds).time\n",
    "\n",
    "# === Filter March and April ===\n",
    "sic_ma = sic.sel(time=sic['time'].dt.month.isin([3, 4]))\n",
    "\n",
    "# === Compute Means ===\n",
    "# Define years\n",
    "all_years = np.arange(1979, 2025)\n",
    "years_43 = all_years[-43:]  # 1982–2024\n",
    "years_20 = all_years[-20:]  # 2005–2024\n",
    "\n",
    "# Helper function to filter and average by year\n",
    "def average_sic_over_years(sic_data, years):\n",
    "    sic_filtered = sic_data.sel(time=sic_data.time.dt.year.isin(years))\n",
    "    return sic_filtered.groupby(\"time.month\").mean(dim=\"time\")\n",
    "\n",
    "# Get averages\n",
    "mean_sic_43 = average_sic_over_years(sic_ma, years_43)\n",
    "mean_sic_20 = average_sic_over_years(sic_ma, years_20)\n",
    "\n",
    "# === Plotting ===\n",
    "fig, axes = plt.subplots(1, 2, figsize=(14, 6), subplot_kw={'projection': 'northpolar'})\n",
    "\n",
    "# If SIC is in [0,1], convert to\n"
   ]
  }
 ],
 "metadata": {
  "kernelspec": {
   "display_name": "NERSC Python",
   "language": "python",
   "name": "python3"
  },
  "language_info": {
   "codemirror_mode": {
    "name": "ipython",
    "version": 3
   },
   "file_extension": ".py",
   "mimetype": "text/x-python",
   "name": "python",
   "nbconvert_exporter": "python",
   "pygments_lexer": "ipython3",
   "version": "3.11.7"
  }
 },
 "nbformat": 4,
 "nbformat_minor": 5
}
